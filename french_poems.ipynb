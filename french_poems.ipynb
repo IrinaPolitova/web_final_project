{
 "cells": [
  {
   "cell_type": "markdown",
   "id": "ddece77a",
   "metadata": {},
   "source": [
    "# 1 этап проекта: сбор данных.\n",
    "Работу выполнила: Политова Ирина, группа БКЛ-203"
   ]
  },
  {
   "cell_type": "markdown",
   "id": "ff18bea6",
   "metadata": {},
   "source": [
    "**Данные:** Я буду работать с сайтом https://wheatoncollege.edu/vive-voix/titres/, буду собирать с него название, автора и текст стихотворений.  \n",
    "  \n",
    "**Таблица на выходе**: Таблица будет содержать столбцы id, title, author, link (ссылка на стихотворение), poem (текст стихотворения), audio (ссылка на аудио)."
   ]
  },
  {
   "cell_type": "code",
   "execution_count": 41,
   "id": "22613fb7",
   "metadata": {},
   "outputs": [],
   "source": [
    "import requests\n",
    "from fake_useragent import UserAgent\n",
    "from bs4 import BeautifulSoup\n",
    "import requests\n",
    "from pprint import pprint\n",
    "import csv"
   ]
  },
  {
   "cell_type": "code",
   "execution_count": 42,
   "id": "8af181ef",
   "metadata": {},
   "outputs": [],
   "source": [
    "session = requests.session()"
   ]
  },
  {
   "cell_type": "markdown",
   "id": "bd253bcf",
   "metadata": {},
   "source": [
    "Начнем обрабатывать страницы сайта. Сделаем первую программу, которая будет парсить главную страницу со списком всех стихотворений и доставать оттуда названия, авторов и ссылки на стихотворения. Итог - список, где элементы имеют вид \"[название, автор, ссылка]\"."
   ]
  },
  {
   "cell_type": "code",
   "execution_count": 43,
   "id": "72ca93fb",
   "metadata": {},
   "outputs": [
    {
     "name": "stdout",
     "output_type": "stream",
     "text": [
      "['Dimanche après-midi', 'Paul ÉLUARD', 'https://wheatoncollege.edu/vive-voix/titres//dimanche-aprsmidi/']\n"
     ]
    }
   ],
   "source": [
    "url_page = 'https://wheatoncollege.edu/vive-voix/titres/'\n",
    "\n",
    "all_poems = []\n",
    "\n",
    "req = session.get(url_page, headers={'User-Agent': UserAgent().chrome})\n",
    "page = req.text\n",
    "soup = BeautifulSoup(page, 'html.parser')\n",
    "\n",
    "main = soup.find('main')\n",
    "\n",
    "all_li = main.find_all('li')\n",
    "\n",
    "for li in all_li:\n",
    "    a = li.find_all('a')\n",
    "    title = a[0].text\n",
    "    link = 'https://wheatoncollege.edu/vive-voix/titres/' + a[0].attrs['href']\n",
    "    author = a[1].text\n",
    "    \n",
    "    if author.startswith(' ('):\n",
    "        author = author[2:]\n",
    "    \n",
    "    new_poem = []\n",
    "    new_poem.append(title)\n",
    "    new_poem.append(author)\n",
    "    new_poem.append(link)\n",
    "    all_poems.append(new_poem)\n",
    "\n",
    "print(all_poems[100])"
   ]
  },
  {
   "cell_type": "markdown",
   "id": "8233c9fc",
   "metadata": {},
   "source": [
    "Отлично, всё работает! Наш следующий шаг - научиться парсить отдельное стихотворение, имея на входе ссылку на него. Напишем функцию vers, которая берет на вход ссылку и достает по ней текст стихотворения и аудио в формате списка [текст, аудио]."
   ]
  },
  {
   "cell_type": "code",
   "execution_count": 44,
   "id": "08c2ea9c",
   "metadata": {},
   "outputs": [],
   "source": [
    "def vers(url_vers):\n",
    "    \n",
    "    vers_data = []\n",
    "    all_poem = []\n",
    "\n",
    "    req = session.get(url_vers, headers={'User-Agent': UserAgent().chrome})\n",
    "    page = req.text\n",
    "    soup = BeautifulSoup(page, 'html.parser')\n",
    "    \n",
    "    main = soup.find('main')\n",
    "\n",
    "    poem = main.find_all('p')\n",
    "    for p in poem:\n",
    "        all_poem.append(p.text)\n",
    "\n",
    "    a = main.find('a')\n",
    "    audio = a.attrs['href']\n",
    "    \n",
    "    vers_data.append(all_poem)\n",
    "    vers_data.append(audio)\n",
    "    \n",
    "    return vers_data"
   ]
  },
  {
   "cell_type": "code",
   "execution_count": 45,
   "id": "09179fd4",
   "metadata": {},
   "outputs": [
    {
     "name": "stdout",
     "output_type": "stream",
     "text": [
      "[['\\xa0\\xa0\\xa0\\xa0Dansons la gigue!',\n",
      "  'J’aimais surtout ses jolis yeux\\n'\n",
      "  'Plus clairs que l’étoile des cieux,\\n'\n",
      "  'J’aimais ses yeux malicieux.',\n",
      "  '\\xa0\\xa0\\xa0\\xa0Dansons la gigue!',\n",
      "  'Elle avait des façons vraiment\\n'\n",
      "  'De désoler un pauvre amant,\\n'\n",
      "  'Que c’en était vraiment charmant!',\n",
      "  '\\xa0\\xa0\\xa0\\xa0Dansons la gigue!',\n",
      "  'Mais je trouve encore meilleur\\n'\n",
      "  'Le baiser de sa bouche en fleur\\n'\n",
      "  'Depuis qu’elle est morte à mon coeur.',\n",
      "  '\\xa0\\xa0\\xa0\\xa0Dansons la gigue!',\n",
      "  'Je me souviens, je me souviens\\n'\n",
      "  'Des heures et des entretiens,\\n'\n",
      "  'Et c’est le meilleur de mes biens.',\n",
      "  '\\xa0\\xa0\\xa0\\xa0Dansons la gigue!',\n",
      "  'Soho.\\n'\n",
      "  'II\\n'\n",
      "  'O la rivière dans la rue!\\n'\n",
      "  'Fantastiquement apparue\\n'\n",
      "  'Derrière un mur haut de cinq pieds,\\n'\n",
      "  'Elle roule sans un murmure\\n'\n",
      "  'Son onde opaque et pourtant pure\\n'\n",
      "  'Par les faubourgs pacifiés.',\n",
      "  'La chaussée est très large, en sorte\\n'\n",
      "  'Que l’eau jaune comme une morte\\n'\n",
      "  'Dévale ample et sans nuls espoirs\\n'\n",
      "  'De rien refléter que la brume,\\n'\n",
      "  'Même alors que l’aurore allume\\n'\n",
      "  'Les cottages jaunes et noirs.',\n",
      "  'Paddington.',\n",
      "  'dit par Jean-Claude PASCAL',\n",
      "  'Paul VERLAINE (Romances sans paroles, 1874)'],\n",
      " 'https://wheatoncollege.edu/wp-content/uploads/2011/01/streets.mp3']\n"
     ]
    }
   ],
   "source": [
    "pprint(vers('https://wheatoncollege.edu/vive-voix/titres/streets/'))"
   ]
  },
  {
   "cell_type": "code",
   "execution_count": 46,
   "id": "2477a86e",
   "metadata": {},
   "outputs": [
    {
     "name": "stdout",
     "output_type": "stream",
     "text": [
      "['https://wheatoncollege.edu/vive-voix/titres//beyrouth/', 'https://wheatoncollege.edu/vive-voix/titres//dites-nous-femmes/', 'https://wheatoncollege.edu/vive-voix/titres//lheure-viendra/', 'https://wheatoncollege.edu/vive-voix/titres//il-est-des-enfants/', 'https://wheatoncollege.edu/vive-voix/titres//je-vous-salue/', 'https://wheatoncollege.edu/vive-voix/titres//le-nomade/', 'https://wheatoncollege.edu/vive-voix/titres//non-homme/', 'https://wheatoncollege.edu/vive-voix/titres//les-reves-viennent-mourir-sur-la-plage/']\n"
     ]
    }
   ],
   "source": [
    "errors = [] # сюда будут сложены ошибки\n",
    "\n",
    "for poem in all_poems:\n",
    "    \n",
    "    url_vers = poem[2]\n",
    "    \n",
    "    try:\n",
    "        new_data = vers(url_vers)\n",
    "        poem.append(new_data[0])\n",
    "        poem.append(new_data[1])\n",
    "\n",
    "    except:\n",
    "        errors.append(url_vers)\n",
    "\n",
    "print(errors)"
   ]
  },
  {
   "cell_type": "markdown",
   "id": "5cd757d1",
   "metadata": {},
   "source": [
    "Нашлись 8 стихотворений без аудио. Не страшно, просто удалим их из нашего списка стихотворений."
   ]
  },
  {
   "cell_type": "code",
   "execution_count": 47,
   "id": "7c573bc2",
   "metadata": {},
   "outputs": [],
   "source": [
    "for e in errors:\n",
    "    \n",
    "    for poem in all_poems:\n",
    "        \n",
    "        if poem[2] == e:\n",
    "            all_poems.remove(poem)"
   ]
  },
  {
   "cell_type": "code",
   "execution_count": 48,
   "id": "606e0bdb",
   "metadata": {},
   "outputs": [
    {
     "data": {
      "text/plain": [
       "['Don du poème',\n",
       " 'Stéphane MALLARMÉ',\n",
       " 'https://wheatoncollege.edu/vive-voix/titres//don-du-pome/',\n",
       " ['Je t’apporte l’enfant d’une nuit d’Idumée !\\nNoire, à l’aile saignante et pâle, déplumée,\\nPar le verre brûlé d’aromates et d’or,\\nPar les carreaux glacés, hélas ! mornes encor,\\nL’aurore se jeta sur la lampe angélique.\\nPalmes ! et quand elle a montré cette relique\\nA ce père essayant un sourire ennemi,\\nLa solitude bleue et stérile a frémi.\\nO la berceuse avec ta fille et l’innocence\\nDe vos pieds froids, accueille une horrible naissance\\nEt, ta voix rappelant viole et clavecin,\\nAvec le doigt fané presseras-tu le sein\\nPar qui coule en blancheur sibylline la femme\\nPour des lèvres que l’air du vierge azur affame ?',\n",
       "  'dit par Claude MONTEUX',\n",
       "  'téphane MALLARMÉ (Vers et prose, 1893)'],\n",
       " 'https://wheatoncollege.edu/wp-content/uploads/2011/01/dondupoeme.mp3']"
      ]
     },
     "execution_count": 48,
     "metadata": {},
     "output_type": "execute_result"
    }
   ],
   "source": [
    "all_poems[101]"
   ]
  },
  {
   "cell_type": "markdown",
   "id": "60687cfa",
   "metadata": {},
   "source": [
    "Итак, что у нас имеется: список из 296 элементов, каждый из которых представляет собой список [название, автор, ссылка, текст, аудио] одного стихотворения. Дальше будем заполнять таблицу, перед этим переведем наш список в список словарей."
   ]
  },
  {
   "cell_type": "code",
   "execution_count": 49,
   "id": "6e25e5a2",
   "metadata": {},
   "outputs": [],
   "source": [
    "poems = []\n",
    "\n",
    "for poem in all_poems:\n",
    "    d = {}\n",
    "    d['title'] = poem[0]\n",
    "    d['author'] = poem[1]\n",
    "    d['link'] = poem[2]\n",
    "    \n",
    "    poem_start = poem[3]\n",
    "    all_poem = []\n",
    "    text_poem = ''\n",
    "    for p in poem_start:\n",
    "        s_poem = p.strip('\\n')\n",
    "        all_poem.append(s_poem)\n",
    "    \n",
    "    for p in all_poem:\n",
    "        text_poem += str(p) + '\\n'\n",
    "    \n",
    "    d['poem'] = text_poem\n",
    "    d['audio'] = poem[4]\n",
    "    poems.append(d)"
   ]
  },
  {
   "cell_type": "code",
   "execution_count": 50,
   "id": "65cd10e9",
   "metadata": {},
   "outputs": [
    {
     "name": "stdout",
     "output_type": "stream",
     "text": [
      "{'audio': 'https://wheatoncollege.edu/wp-content/uploads/2011/01/albatros.mp3',\n",
      " 'author': 'Charles BAUDELAIRE',\n",
      " 'link': 'https://wheatoncollege.edu/vive-voix/titres//lalbatros/',\n",
      " 'poem': 'Souvent, pour s’amuser, les hommes d’équipage\\n'\n",
      "         'Prennent des albatros, vastes oiseaux des mers,\\n'\n",
      "         'Qui suivent, indolents compagnons de voyage,\\n'\n",
      "         'Le navire glissant sur les gouffres amers.\\n'\n",
      "         'A peine les ont-ils déposés sur les planches,\\n'\n",
      "         'Que ces rois de l’azur, maladroits et honteux,\\n'\n",
      "         'Laissent piteusement leurs grandes ailes blanches\\n'\n",
      "         'Comme des avirons traîner à côté d’eux.\\n'\n",
      "         'Ce voyageur ailé, comme il est gauche et veule !\\n'\n",
      "         'Lui, naguère si beau, qu’il est comique et laid !\\n'\n",
      "         'L’un agace son bec avec un brûle-gueule,\\n'\n",
      "         'L’autre mime, en boitant, l’infirme qui volait !\\n'\n",
      "         'Le Poète est semblable au prince des nuées\\n'\n",
      "         'Qui hante la tempête et se rit de l’archer ;\\n'\n",
      "         'Exilé sur le sol au milieu des huées,\\n'\n",
      "         'Ses ailes de géant l’empêchent de marcher.\\n'\n",
      "         '\\xa0\\n'\n",
      "         'dit par Henri ROLLAN\\n'\n",
      "         'dit par André NERMAN\\n'\n",
      "         'Charles BAUDELAIRE\\xa0(Les Fleurs du mal,\\xa01857)\\n',\n",
      " 'title': 'L’Albatros'}\n"
     ]
    }
   ],
   "source": [
    "pprint(poems[5])"
   ]
  },
  {
   "cell_type": "code",
   "execution_count": 51,
   "id": "b9e55d35",
   "metadata": {},
   "outputs": [],
   "source": [
    "with open('french_poems.csv', 'w', encoding='utf-8', newline='') as csvfile:\n",
    "    fieldnames = ['title', 'author', 'link', 'poem', 'audio']\n",
    "    writer = csv.DictWriter(csvfile, fieldnames=fieldnames)\n",
    "\n",
    "    writer.writeheader()\n",
    "    \n",
    "    for poem in poems:\n",
    "        writer.writerow(poem)"
   ]
  },
  {
   "cell_type": "markdown",
   "id": "5ebcf7e1",
   "metadata": {},
   "source": [
    "Ура, у нас всё готово!!! Теперь у нас есть таблица, в которую всё вписано."
   ]
  }
 ],
 "metadata": {
  "kernelspec": {
   "display_name": "Python 3 (ipykernel)",
   "language": "python",
   "name": "python3"
  },
  "language_info": {
   "codemirror_mode": {
    "name": "ipython",
    "version": 3
   },
   "file_extension": ".py",
   "mimetype": "text/x-python",
   "name": "python",
   "nbconvert_exporter": "python",
   "pygments_lexer": "ipython3",
   "version": "3.8.5"
  }
 },
 "nbformat": 4,
 "nbformat_minor": 5
}
